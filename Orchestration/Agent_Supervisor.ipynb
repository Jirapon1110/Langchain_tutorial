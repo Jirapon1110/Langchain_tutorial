{
 "cells": [
  {
   "cell_type": "code",
   "execution_count": 1,
   "id": "cfc7b608",
   "metadata": {},
   "outputs": [
    {
     "data": {
      "text/plain": [
       "True"
      ]
     },
     "execution_count": 1,
     "metadata": {},
     "output_type": "execute_result"
    }
   ],
   "source": [
    "from dotenv import load_dotenv\n",
    "load_dotenv()"
   ]
  },
  {
   "cell_type": "markdown",
   "id": "dfad7c6b",
   "metadata": {},
   "source": [
    "### Create worker agents"
   ]
  },
  {
   "cell_type": "markdown",
   "id": "d5b4a278",
   "metadata": {},
   "source": [
    "#### Research agent"
   ]
  },
  {
   "cell_type": "code",
   "execution_count": 2,
   "id": "d1928cd2",
   "metadata": {},
   "outputs": [
    {
     "name": "stdout",
     "output_type": "stream",
     "text": [
      "Mayor Eric Adams has served the people of New York City as an NYPD officer, State Senator, Brooklyn Borough President, and now as the 110th Mayor of the City of New York. Mayor Eric Adams has served the people of New York City as an NYPD officer, State Senator, Brooklyn Borough President, and now as the 110th Mayor of the City of New York. In Albany, Eric built winning coalitions to advance New York City’s values and goals, helping to push through measures to protect tenants and workers, combat gun violence, end the NYPD’s abuses of stop and frisk, and advance human rights — including marriage equality. NYC is a trademark and service mark of the City of New York.\n"
     ]
    }
   ],
   "source": [
    "from langchain_tavily import TavilySearch\n",
    "\n",
    "web_search = TavilySearch(max_results=3)\n",
    "web_search_results = web_search.invoke(\"who is mayor of NYC?\")\n",
    "\n",
    "print(web_search_results[\"results\"][0][\"content\"])"
   ]
  },
  {
   "cell_type": "code",
   "execution_count": 3,
   "id": "bcda5ac2",
   "metadata": {},
   "outputs": [],
   "source": [
    "from langgraph.prebuilt import create_react_agent\n",
    "\n",
    "research_agent = create_react_agent(\n",
    "   model=\"openai:gpt-4.1\",\n",
    "   tools=[web_search],\n",
    "   prompt=(\n",
    "      \"You are a research agent.\\n\\n\"\n",
    "      \"INSTRUCTIONS:\\n\"\n",
    "      \"- Assist ONLY with research-related tasks, DO NOT do any math\\n\"\n",
    "      \"- After you're done with your tasks, respond to the supervisor directly\\n\"\n",
    "      \"- Respond ONLY with the results of your work, do NOT include ANY other text.\"\n",
    "   ),\n",
    "   name=\"researh_agent\"\n",
    ")"
   ]
  },
  {
   "cell_type": "code",
   "execution_count": 5,
   "id": "fba07f01",
   "metadata": {},
   "outputs": [],
   "source": [
    "from langchain_core.messages import convert_to_messages\n",
    "\n",
    "\n",
    "def pretty_print_message(message, indent=False):\n",
    "   pretty_message = message.pretty_repr(html=True)\n",
    "   if not indent:\n",
    "      print(pretty_message)\n",
    "      return\n",
    "\n",
    "   indented = \"\\n\".join(\"\\t\" + c for c in pretty_message.split(\"\\n\"))\n",
    "   print(indented)\n",
    "\n",
    "\n",
    "def pretty_print_messages(update, last_message=False):\n",
    "   is_subgraph = False\n",
    "   if isinstance(update, tuple):\n",
    "      ns, update = update\n",
    "      # skip parent graph updates in the printouts\n",
    "      if len(ns) == 0:\n",
    "         return\n",
    "\n",
    "      graph_id = ns[-1].split(\":\")[0]\n",
    "      print(f\"Update from subgraph {graph_id}:\")\n",
    "      print(\"\\n\")\n",
    "      is_subgraph = True\n",
    "\n",
    "   for node_name, node_update in update.items():\n",
    "      update_label = f\"Update from node {node_name}:\"\n",
    "      if is_subgraph:\n",
    "         update_label = \"\\t\" + update_label\n",
    "\n",
    "      print(update_label)\n",
    "      print(\"\\n\")\n",
    "\n",
    "      messages = convert_to_messages(node_update[\"messages\"])\n",
    "      if last_message:\n",
    "         messages = messages[-1:]\n",
    "\n",
    "      for m in messages:\n",
    "         pretty_print_message(m, indent=is_subgraph)\n",
    "      print(\"\\n\")"
   ]
  },
  {
   "cell_type": "code",
   "execution_count": 6,
   "id": "f428c776",
   "metadata": {},
   "outputs": [
    {
     "name": "stdout",
     "output_type": "stream",
     "text": [
      "Update from node agent:\n",
      "\n",
      "\n",
      "==================================\u001b[1m Ai Message \u001b[0m==================================\n",
      "Name: researh_agent\n",
      "Tool Calls:\n",
      "  tavily_search (call_eu7cmqKkmUQs38BaXS0xfgTO)\n",
      " Call ID: call_eu7cmqKkmUQs38BaXS0xfgTO\n",
      "  Args:\n",
      "    query: current mayor of New York City\n",
      "\n",
      "\n",
      "Update from node tools:\n",
      "\n",
      "\n",
      "=================================\u001b[1m Tool Message \u001b[0m=================================\n",
      "Name: tavily_search\n",
      "\n",
      "{\"query\": \"current mayor of New York City\", \"follow_up_questions\": null, \"answer\": null, \"images\": [], \"results\": [{\"url\": \"https://www.nyc.gov/office-of-the-mayor/bio.page\", \"title\": \"Office of the Mayor | Mayor's Bio | City of New York - NYC.gov\", \"content\": \"Mayor Eric Adams has served the people of New York City as an NYPD officer, State Senator, Brooklyn Borough President, and now as the 110th Mayor of the City\", \"score\": 0.82048416, \"raw_content\": null}, {\"url\": \"https://en.wikipedia.org/wiki/Eric_Adams\", \"title\": \"Eric Adams - Wikipedia\", \"content\": \"Eric Leroy Adams (born September 1, 1960) is an American politician and former police officer who has served since 2022 as the 110th mayor of New York City.\", \"score\": 0.74251556, \"raw_content\": null}, {\"url\": \"https://en.wikipedia.org/wiki/Mayor_of_New_York_City\", \"title\": \"Mayor of New York City - Wikipedia\", \"content\": \"The mayor of New York City, officially mayor of the City of New York, is head of the executive branch of the government of New York City and the chief\", \"score\": 0.5900477, \"raw_content\": null}], \"response_time\": 2.03}\n",
      "\n",
      "\n",
      "Update from node agent:\n",
      "\n",
      "\n",
      "==================================\u001b[1m Ai Message \u001b[0m==================================\n",
      "Name: researh_agent\n",
      "\n",
      "The current mayor of New York City is Eric Adams.\n",
      "\n",
      "\n"
     ]
    }
   ],
   "source": [
    "for chunk in research_agent.stream(\n",
    "    {\"messages\": [{\"role\": \"user\", \"content\": \"who is the mayor of NYC?\"}]}\n",
    "):\n",
    "    pretty_print_messages(chunk)"
   ]
  },
  {
   "cell_type": "markdown",
   "id": "bdd4491b",
   "metadata": {},
   "source": [
    "#### Math agent"
   ]
  },
  {
   "cell_type": "code",
   "execution_count": 7,
   "id": "423d1d8d",
   "metadata": {},
   "outputs": [],
   "source": [
    "def add(a: float, b: float):\n",
    "   \"\"\"Add two numbers.\"\"\"\n",
    "   return a + b\n",
    "\n",
    "\n",
    "def multiply(a: float, b: float):\n",
    "   \"\"\"Multiply two numbers.\"\"\"\n",
    "   return a * b\n",
    "\n",
    "\n",
    "def divide(a: float, b: float):\n",
    "   \"\"\"Divide two numbers.\"\"\"\n",
    "   return a / b\n",
    "\n",
    "\n",
    "math_agent = create_react_agent(\n",
    "   model=\"openai:gpt-4.1\",\n",
    "   tools=[add, multiply, divide],\n",
    "   prompt=(\n",
    "      \"You are a math agent.\\n\\n\"\n",
    "      \"INSTRUCTIONS:\\n\"\n",
    "      \"- Assist ONLY with math-related tasks\\n\"\n",
    "      \"- After you're done with your tasks, respond to the supervisor directly\\n\"\n",
    "      \"- Respond ONLY with the results of your work, do NOT include ANY other text.\"\n",
    "   ),\n",
    "   name=\"math_agent\",\n",
    ")"
   ]
  },
  {
   "cell_type": "code",
   "execution_count": 8,
   "id": "cccfd50d",
   "metadata": {},
   "outputs": [
    {
     "name": "stdout",
     "output_type": "stream",
     "text": [
      "Update from node agent:\n",
      "\n",
      "\n",
      "==================================\u001b[1m Ai Message \u001b[0m==================================\n",
      "Name: math_agent\n",
      "Tool Calls:\n",
      "  add (call_eeQCEZMZuCsCESrU8ZmW1rsm)\n",
      " Call ID: call_eeQCEZMZuCsCESrU8ZmW1rsm\n",
      "  Args:\n",
      "    a: 3\n",
      "    b: 5\n",
      "\n",
      "\n",
      "Update from node tools:\n",
      "\n",
      "\n",
      "=================================\u001b[1m Tool Message \u001b[0m=================================\n",
      "Name: add\n",
      "\n",
      "8.0\n",
      "\n",
      "\n",
      "Update from node agent:\n",
      "\n",
      "\n",
      "==================================\u001b[1m Ai Message \u001b[0m==================================\n",
      "Name: math_agent\n",
      "Tool Calls:\n",
      "  multiply (call_ETLgINGghANaDysXet21cesJ)\n",
      " Call ID: call_ETLgINGghANaDysXet21cesJ\n",
      "  Args:\n",
      "    a: 8\n",
      "    b: 7\n",
      "\n",
      "\n",
      "Update from node tools:\n",
      "\n",
      "\n",
      "=================================\u001b[1m Tool Message \u001b[0m=================================\n",
      "Name: multiply\n",
      "\n",
      "56.0\n",
      "\n",
      "\n",
      "Update from node agent:\n",
      "\n",
      "\n",
      "==================================\u001b[1m Ai Message \u001b[0m==================================\n",
      "Name: math_agent\n",
      "\n",
      "56\n",
      "\n",
      "\n"
     ]
    }
   ],
   "source": [
    "for chunk in math_agent.stream(\n",
    "   {\"messages\": [{\"role\": \"user\", \"content\": \"what's (3 + 5) x 7\"}]}\n",
    "):\n",
    "   pretty_print_messages(chunk)"
   ]
  },
  {
   "cell_type": "markdown",
   "id": "183f6edc",
   "metadata": {},
   "source": [
    "### Create supervisor with langgraph-supervisor"
   ]
  },
  {
   "cell_type": "code",
   "execution_count": 13,
   "id": "44864e36",
   "metadata": {},
   "outputs": [],
   "source": [
    "from langgraph_supervisor import create_supervisor\n",
    "from langchain.chat_models import init_chat_model\n",
    "\n",
    "supervisor = create_supervisor(\n",
    "   model = init_chat_model(model=\"openai:gpt-4.1\"),\n",
    "   agents = [research_agent, math_agent],\n",
    "   prompt=(\n",
    "      \"You are a supervisor managing two agents:\\n\"\n",
    "      \"- a research agent. Assign research-related tasks to this agent\\n\"\n",
    "      \"- a math agent. Assign math-related tasks to this agent\\n\"\n",
    "      \"Assign work to one agent at a time, do not call agents in parallel.\\n\"\n",
    "      \"Do not do any work yourself.\"\n",
    "   ),\n",
    "   add_handoff_back_messages = True,\n",
    "   output_mode = \"full_history\"\n",
    ").compile()"
   ]
  },
  {
   "cell_type": "code",
   "execution_count": 14,
   "id": "92a45193",
   "metadata": {},
   "outputs": [
    {
     "data": {
      "image/png": "[encoded data removed]",
      "text/plain": [
       "<IPython.core.display.Image object>"
      ]
     },
     "metadata": {},
     "output_type": "display_data"
    }
   ],
   "source": [
    "from IPython.display import display, Image\n",
    "\n",
    "display(Image(supervisor.get_graph().draw_mermaid_png()))"
   ]
  },
  {
   "cell_type": "code",
   "execution_count": 15,
   "id": "28abaa55",
   "metadata": {},
   "outputs": [
    {
     "name": "stderr",
     "output_type": "stream",
     "text": [
      "Task supervisor with path ('__pregel_pull', 'supervisor') wrote to unknown channel is_last_step, ignoring it.\n",
      "Task supervisor with path ('__pregel_pull', 'supervisor') wrote to unknown channel remaining_steps, ignoring it.\n"
     ]
    },
    {
     "name": "stdout",
     "output_type": "stream",
     "text": [
      "Update from node supervisor:\n",
      "\n",
      "\n",
      "=================================\u001b[1m Tool Message \u001b[0m=================================\n",
      "Name: transfer_to_researh_agent\n",
      "\n",
      "Successfully transferred to researh_agent\n",
      "\n",
      "\n",
      "Update from node researh_agent:\n",
      "\n",
      "\n",
      "=================================\u001b[1m Tool Message \u001b[0m=================================\n",
      "Name: transfer_back_to_supervisor\n",
      "\n",
      "Successfully transferred back to supervisor\n",
      "\n",
      "\n"
     ]
    },
    {
     "name": "stderr",
     "output_type": "stream",
     "text": [
      "Task supervisor with path ('__pregel_pull', 'supervisor') wrote to unknown channel is_last_step, ignoring it.\n",
      "Task supervisor with path ('__pregel_pull', 'supervisor') wrote to unknown channel remaining_steps, ignoring it.\n"
     ]
    },
    {
     "name": "stdout",
     "output_type": "stream",
     "text": [
      "Update from node supervisor:\n",
      "\n",
      "\n",
      "=================================\u001b[1m Tool Message \u001b[0m=================================\n",
      "Name: transfer_to_math_agent\n",
      "\n",
      "Successfully transferred to math_agent\n",
      "\n",
      "\n",
      "Update from node math_agent:\n",
      "\n",
      "\n",
      "=================================\u001b[1m Tool Message \u001b[0m=================================\n",
      "Name: transfer_back_to_supervisor\n",
      "\n",
      "Successfully transferred back to supervisor\n",
      "\n",
      "\n",
      "Update from node supervisor:\n",
      "\n",
      "\n",
      "==================================\u001b[1m Ai Message \u001b[0m==================================\n",
      "Name: supervisor\n",
      "\n",
      "In 2024, the US GDP was about $29.18 trillion. New York state's GDP was reported as either $1.8 trillion or $2.297 trillion, depending on the source.\n",
      "\n",
      "- If NY's GDP was $1.8 trillion, it comprised approximately 6.17% of US GDP.\n",
      "- If NY's GDP was $2.297 trillion, it comprised approximately 7.87% of US GDP. \n",
      "\n",
      "Let me know if you want the sources or further breakdown.\n",
      "\n",
      "\n"
     ]
    }
   ],
   "source": [
    "for chunk in supervisor.stream(\n",
    "   {\n",
    "      \"messages\": [\n",
    "         {\n",
    "            \"role\": \"user\",\n",
    "            \"content\": \"find US and New York state GDP in 2024. what % of US GDP was New York state?\",\n",
    "         }\n",
    "      ]\n",
    "   },\n",
    "):\n",
    "   pretty_print_messages(chunk, last_message=True)\n",
    "\n",
    "final_message_history = chunk[\"supervisor\"][\"messages\"]"
   ]
  },
  {
   "cell_type": "markdown",
   "id": "686fa6ad",
   "metadata": {},
   "source": [
    "#### Create supervisor from scratch"
   ]
  },
  {
   "cell_type": "markdown",
   "id": "16ef8e16",
   "metadata": {},
   "source": [
    "#### Set up agent communication"
   ]
  },
  {
   "cell_type": "code",
   "execution_count": 19,
   "id": "2c1ce82a",
   "metadata": {},
   "outputs": [],
   "source": [
    "from typing import Annotated\n",
    "from langchain_core.tools import tool, InjectedToolCallId\n",
    "from langgraph.prebuilt import InjectedState\n",
    "from langgraph.graph import StateGraph, START, MessagesState\n",
    "from langgraph.types import Command\n",
    "\n",
    "\n",
    "def create_handoff_tool(*, agent_name: str, description: str | None = None):\n",
    "   name = f\"transfer_to_{agent_name}\"\n",
    "   description = description or f\"Ask {agent_name} for help.\"\n",
    "   \n",
    "   @tool(name, description=description)\n",
    "   def handoff_tool(\n",
    "      state: Annotated[MessagesState, InjectedState],\n",
    "      tool_call_id: Annotated[str, InjectedToolCallId],\n",
    "    ) -> Command:\n",
    "      tool_message = {\n",
    "         \"role\": \"tool\",\n",
    "         \"content\": f\"Successfully transferred to {agent_name}\",\n",
    "         \"name\": name,\n",
    "         \"tool_call_id\": tool_call_id,\n",
    "      }\n",
    "      return Command(\n",
    "         goto=agent_name,  \n",
    "         update={**state, \"messages\": state[\"messages\"] + [tool_message]},  \n",
    "         graph=Command.PARENT,  \n",
    "      )"
   ]
  },
  {
   "cell_type": "code",
   "execution_count": 20,
   "id": "d14826cc",
   "metadata": {},
   "outputs": [],
   "source": [
    "# Handoffs\n",
    "assign_to_research_agent = create_handoff_tool(\n",
    "   agent_name=\"research_agent\",\n",
    "   description=\"Assign task to a researcher agent.\",\n",
    ")\n",
    "\n",
    "assign_to_math_agent = create_handoff_tool(\n",
    "   agent_name=\"math_agent\",\n",
    "   description=\"Assign task to a math agent.\",\n",
    ")"
   ]
  },
  {
   "cell_type": "markdown",
   "id": "2e5800ad",
   "metadata": {},
   "source": [
    "#### Create supervisor agent"
   ]
  },
  {
   "cell_type": "code",
   "execution_count": 25,
   "id": "4f048048",
   "metadata": {},
   "outputs": [
    {
     "ename": "AttributeError",
     "evalue": "'function' object has no attribute 'name'",
     "output_type": "error",
     "traceback": [
      "\u001b[31m---------------------------------------------------------------------------\u001b[39m",
      "\u001b[31mAttributeError\u001b[39m                            Traceback (most recent call last)",
      "\u001b[36mCell\u001b[39m\u001b[36m \u001b[39m\u001b[32mIn[25]\u001b[39m\u001b[32m, line 1\u001b[39m\n\u001b[32m----> \u001b[39m\u001b[32m1\u001b[39m supervisor_agent = \u001b[43mcreate_react_agent\u001b[49m\u001b[43m(\u001b[49m\n\u001b[32m      2\u001b[39m \u001b[43m    \u001b[49m\u001b[43mmodel\u001b[49m\u001b[43m=\u001b[49m\u001b[33;43m\"\u001b[39;49m\u001b[33;43mopenai:gpt-4.1\u001b[39;49m\u001b[33;43m\"\u001b[39;49m\u001b[43m,\u001b[49m\n\u001b[32m      3\u001b[39m \u001b[43m    \u001b[49m\u001b[43mtools\u001b[49m\u001b[43m=\u001b[49m\u001b[43m[\u001b[49m\u001b[43massign_to_research_agent\u001b[49m\u001b[43m,\u001b[49m\u001b[43m \u001b[49m\u001b[43massign_to_math_agent\u001b[49m\u001b[43m]\u001b[49m\u001b[43m,\u001b[49m\n\u001b[32m      4\u001b[39m \u001b[43m    \u001b[49m\u001b[43mprompt\u001b[49m\u001b[43m=\u001b[49m\u001b[43m(\u001b[49m\n\u001b[32m      5\u001b[39m \u001b[43m        \u001b[49m\u001b[33;43m\"\u001b[39;49m\u001b[33;43mYou are a supervisor managing two agents:\u001b[39;49m\u001b[38;5;130;43;01m\\n\u001b[39;49;00m\u001b[33;43m\"\u001b[39;49m\n\u001b[32m      6\u001b[39m \u001b[43m        \u001b[49m\u001b[33;43m\"\u001b[39;49m\u001b[33;43m- a research agent. Assign research-related tasks to this agent\u001b[39;49m\u001b[38;5;130;43;01m\\n\u001b[39;49;00m\u001b[33;43m\"\u001b[39;49m\n\u001b[32m      7\u001b[39m \u001b[43m        \u001b[49m\u001b[33;43m\"\u001b[39;49m\u001b[33;43m- a math agent. Assign math-related tasks to this agent\u001b[39;49m\u001b[38;5;130;43;01m\\n\u001b[39;49;00m\u001b[33;43m\"\u001b[39;49m\n\u001b[32m      8\u001b[39m \u001b[43m        \u001b[49m\u001b[33;43m\"\u001b[39;49m\u001b[33;43mAssign work to one agent at a time, do not call agents in parallel.\u001b[39;49m\u001b[38;5;130;43;01m\\n\u001b[39;49;00m\u001b[33;43m\"\u001b[39;49m\n\u001b[32m      9\u001b[39m \u001b[43m        \u001b[49m\u001b[33;43m\"\u001b[39;49m\u001b[33;43mDo not do any work yourself.\u001b[39;49m\u001b[33;43m\"\u001b[39;49m\n\u001b[32m     10\u001b[39m \u001b[43m    \u001b[49m\u001b[43m)\u001b[49m\u001b[43m,\u001b[49m\n\u001b[32m     11\u001b[39m \u001b[43m    \u001b[49m\u001b[43mname\u001b[49m\u001b[43m=\u001b[49m\u001b[33;43m\"\u001b[39;49m\u001b[33;43msupervisor\u001b[39;49m\u001b[33;43m\"\u001b[39;49m\u001b[43m,\u001b[49m\n\u001b[32m     12\u001b[39m \u001b[43m)\u001b[49m\n",
      "\u001b[36mFile \u001b[39m\u001b[32mc:\\Users\\User\\Miniconda3\\envs\\langchain_tutorial\\Lib\\site-packages\\langgraph\\prebuilt\\chat_agent_executor.py:432\u001b[39m, in \u001b[36mcreate_react_agent\u001b[39m\u001b[34m(model, tools, prompt, response_format, pre_model_hook, post_model_hook, state_schema, config_schema, checkpointer, store, interrupt_before, interrupt_after, debug, version, name)\u001b[39m\n\u001b[32m    430\u001b[39m \u001b[38;5;28;01melse\u001b[39;00m:\n\u001b[32m    431\u001b[39m     llm_builtin_tools = [t \u001b[38;5;28;01mfor\u001b[39;00m t \u001b[38;5;129;01min\u001b[39;00m tools \u001b[38;5;28;01mif\u001b[39;00m \u001b[38;5;28misinstance\u001b[39m(t, \u001b[38;5;28mdict\u001b[39m)]\n\u001b[32m--> \u001b[39m\u001b[32m432\u001b[39m     tool_node = \u001b[43mToolNode\u001b[49m\u001b[43m(\u001b[49m\u001b[43m[\u001b[49m\u001b[43mt\u001b[49m\u001b[43m \u001b[49m\u001b[38;5;28;43;01mfor\u001b[39;49;00m\u001b[43m \u001b[49m\u001b[43mt\u001b[49m\u001b[43m \u001b[49m\u001b[38;5;129;43;01min\u001b[39;49;00m\u001b[43m \u001b[49m\u001b[43mtools\u001b[49m\u001b[43m \u001b[49m\u001b[38;5;28;43;01mif\u001b[39;49;00m\u001b[43m \u001b[49m\u001b[38;5;129;43;01mnot\u001b[39;49;00m\u001b[43m \u001b[49m\u001b[38;5;28;43misinstance\u001b[39;49m\u001b[43m(\u001b[49m\u001b[43mt\u001b[49m\u001b[43m,\u001b[49m\u001b[43m \u001b[49m\u001b[38;5;28;43mdict\u001b[39;49m\u001b[43m)\u001b[49m\u001b[43m]\u001b[49m\u001b[43m)\u001b[49m\n\u001b[32m    433\u001b[39m     tool_classes = \u001b[38;5;28mlist\u001b[39m(tool_node.tools_by_name.values())\n\u001b[32m    435\u001b[39m \u001b[38;5;28;01mif\u001b[39;00m \u001b[38;5;28misinstance\u001b[39m(model, \u001b[38;5;28mstr\u001b[39m):\n",
      "\u001b[36mFile \u001b[39m\u001b[32mc:\\Users\\User\\Miniconda3\\envs\\langchain_tutorial\\Lib\\site-packages\\langgraph\\prebuilt\\tool_node.py:222\u001b[39m, in \u001b[36mToolNode.__init__\u001b[39m\u001b[34m(self, tools, name, tags, handle_tool_errors, messages_key)\u001b[39m\n\u001b[32m    220\u001b[39m \u001b[38;5;28;01mif\u001b[39;00m \u001b[38;5;129;01mnot\u001b[39;00m \u001b[38;5;28misinstance\u001b[39m(tool_, BaseTool):\n\u001b[32m    221\u001b[39m     tool_ = create_tool(tool_)\n\u001b[32m--> \u001b[39m\u001b[32m222\u001b[39m \u001b[38;5;28mself\u001b[39m.tools_by_name[\u001b[43mtool_\u001b[49m\u001b[43m.\u001b[49m\u001b[43mname\u001b[49m] = tool_\n\u001b[32m    223\u001b[39m \u001b[38;5;28mself\u001b[39m.tool_to_state_args[tool_.name] = _get_state_args(tool_)\n\u001b[32m    224\u001b[39m \u001b[38;5;28mself\u001b[39m.tool_to_store_arg[tool_.name] = _get_store_arg(tool_)\n",
      "\u001b[31mAttributeError\u001b[39m: 'function' object has no attribute 'name'"
     ]
    }
   ],
   "source": [
    "supervisor_agent = create_react_agent(\n",
    "    model=\"openai:gpt-4.1\",\n",
    "    tools=[assign_to_research_agent, assign_to_math_agent],\n",
    "    prompt=(\n",
    "        \"You are a supervisor managing two agents:\\n\"\n",
    "        \"- a research agent. Assign research-related tasks to this agent\\n\"\n",
    "        \"- a math agent. Assign math-related tasks to this agent\\n\"\n",
    "        \"Assign work to one agent at a time, do not call agents in parallel.\\n\"\n",
    "        \"Do not do any work yourself.\"\n",
    "    ),\n",
    "    name=\"supervisor\",\n",
    ")"
   ]
  },
  {
   "cell_type": "code",
   "execution_count": 24,
   "id": "ed2b1690",
   "metadata": {},
   "outputs": [],
   "source": [
    "math_agent = create_react_agent(\n",
    "   model=\"openai:gpt-4.1\",\n",
    "   tools=[add, multiply, divide],\n",
    "   prompt=(\n",
    "      \"You are a math agent.\\n\\n\"\n",
    "      \"INSTRUCTIONS:\\n\"\n",
    "      \"- Assist ONLY with math-related tasks\\n\"\n",
    "      \"- After you're done with your tasks, respond to the supervisor directly\\n\"\n",
    "      \"- Respond ONLY with the results of your work, do NOT include ANY other text.\"\n",
    "   ),\n",
    "   name=\"math_agent\",\n",
    ")"
   ]
  }
 ],
 "metadata": {
  "kernelspec": {
   "display_name": "langchain_tutorial",
   "language": "python",
   "name": "python3"
  },
  "language_info": {
   "codemirror_mode": {
    "name": "ipython",
    "version": 3
   },
   "file_extension": ".py",
   "mimetype": "text/x-python",
   "name": "python",
   "nbconvert_exporter": "python",
   "pygments_lexer": "ipython3",
   "version": "3.12.11"
  }
 },
 "nbformat": 4,
 "nbformat_minor": 5
}
