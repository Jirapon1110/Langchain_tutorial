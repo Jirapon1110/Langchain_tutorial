{
 "cells": [
  {
   "cell_type": "code",
   "execution_count": 2,
   "id": "010612fa",
   "metadata": {},
   "outputs": [
    {
     "data": {
      "text/plain": [
       "True"
      ]
     },
     "execution_count": 2,
     "metadata": {},
     "output_type": "execute_result"
    }
   ],
   "source": [
    "from dotenv import load_dotenv\n",
    "load_dotenv()"
   ]
  },
  {
   "cell_type": "markdown",
   "id": "f3495f8c",
   "metadata": {},
   "source": [
    "### Define tools"
   ]
  },
  {
   "cell_type": "code",
   "execution_count": null,
   "id": "81178452",
   "metadata": {},
   "outputs": [
    {
     "name": "stdout",
     "output_type": "stream",
     "text": [
      "{'query': 'What is weather in San Francisco?', 'follow_up_questions': None, 'answer': None, 'images': [], 'results': [{'title': 'Weather in San Francisco', 'url': 'https://www.weatherapi.com/', 'content': \"{'location': {'name': 'San Francisco', 'region': 'California', 'country': 'United States of America', 'lat': 37.775, 'lon': -122.4183, 'tz_id': 'America/Los_Angeles', 'localtime_epoch': 1752692968, 'localtime': '2025-07-16 12:09'}, 'current': {'last_updated_epoch': 1752692400, 'last_updated': '2025-07-16 12:00', 'temp_c': 17.8, 'temp_f': 64.0, 'is_day': 1, 'condition': {'text': 'Partly cloudy', 'icon': '//cdn.weatherapi.com/weather/64x64/day/116.png', 'code': 1003}, 'wind_mph': 12.8, 'wind_kph': 20.5, 'wind_degree': 243, 'wind_dir': 'WSW', 'pressure_mb': 1015.0, 'pressure_in': 29.98, 'precip_mm': 0.0, 'precip_in': 0.0, 'humidity': 68, 'cloud': 50, 'feelslike_c': 17.8, 'feelslike_f': 64.0, 'windchill_c': 13.5, 'windchill_f': 56.3, 'heatindex_c': 14.5, 'heatindex_f': 58.0, 'dewpoint_c': 12.6, 'dewpoint_f': 54.7, 'vis_km': 16.0, 'vis_miles': 9.0, 'uv': 9.0, 'gust_mph': 14.7, 'gust_kph': 23.6}}\", 'score': 0.9319659, 'raw_content': None}, {'url': 'https://weathershogun.com/weather/usa/ca/san-francisco/480/july/2025-07-16', 'title': 'Wednesday, July 16, 2025. San Francisco, CA - Weather Forecast', 'content': \"Wednesday, July 16, 2025. San Francisco, CA - Weather Forecast  San Francisco, CA Image 1: WeatherShogun.com HomeContactBrowse StatesPrivacy PolicyTerms and Conditions °F)°C) TodayTomorrowHourly7 days30 daysJuly San Francisco, California Weather:  Wednesday, July 16, 2025 Day 64° Night 59° Precipitation 0 % Wind 14 mph UV Index (0 - 11+)10 Thursday *   Hourly *   Today *   Tomorrow *   7 days *   30 days Weather Forecast History Last Year's Weather on This Day (July 16, 2024) ### Day 66° ### Night 55° Please note that while we strive for accuracy, the information provided may not always be correct. Use at your own risk. © Copyright by WeatherShogun.com\", 'score': 0.92507464, 'raw_content': None}, {'url': 'https://www.weather25.com/north-america/usa/california/san-francisco?page=month&month=July', 'title': 'San Francisco weather in July 2025 | Weather25.com', 'content': '| February | 16° / 7° | 4 | 24 | 0 | 61 mm | Good | San Francisco in February | | March | 17° / 8° | 5 | 26 | 0 | 62 mm | Good | San Francisco in March | | May | 20° / 10° | 1 | 30 | 0 | 13 mm | Good | San Francisco in May | | July | 25° / 14° | 0 | 31 | 0 | 3 mm | Perfect | San Francisco in July | | December | 14° / 8° | 4 | 27 | 0 | 55 mm | Good | San Francisco in December |', 'score': 0.7487387, 'raw_content': None}, {'url': 'https://wu-next-prod.wunderground.com/history/monthly/us/ca/san-francisco/KCASANFR2093/date/2025-1', 'title': 'San Francisco, CA Weather History', 'content': 'Current Weather for Popular Cities. San Francisco, CA 65 °FPartly Cloudy ... San Francisco, CA Weather Historystar_ratehome. icon 65 °F Commodore Center', 'score': 0.47431523, 'raw_content': None}, {'url': 'https://www.accuweather.com/en/us/san-francisco/94103/july-weather/347629', 'title': 'San Francisco, CA Monthly Weather - AccuWeather', 'content': 'San Francisco, CA Monthly Weather | AccuWeather San Francisco, CA Weather ### Warnings### Data Suite### Newsletters### Advertising### Superior Accuracy™ ### Hurricane Tracker### Severe Weather### Radar & Maps### News### Video### Winter Center Severe Weather Over 100 million at risk for severe storms, downpours into next week 7 hours ago Image 2Recreation 2 hikers die on Maine mountain amid treacherous weather 1 day ago Image 3Weather News Northeast to cycle between deluges, dry air following warmth 7 hours ago Image 4Weather News Crane collapse during high winds kills 2 in Florida 8 hours ago Image 5Weather News Hazy sky to persist as wildfire smoke and Saharan dust invades US 7 hours ago Image 6More Stories', 'score': 0.29923877, 'raw_content': None}], 'response_time': 1.07}\n"
     ]
    }
   ],
   "source": [
    "from langchain_tavily import TavilySearch\n",
    "\n",
    "search = TavilySearch(max_result=2)\n",
    "search_results = search.invoke(\"What is weather in San Francisco?\")\n",
    "print(search_results)\n"
   ]
  },
  {
   "cell_type": "code",
   "execution_count": 3,
   "id": "693e36da",
   "metadata": {},
   "outputs": [],
   "source": [
    "tools = [search]"
   ]
  },
  {
   "cell_type": "markdown",
   "id": "bc90de29",
   "metadata": {},
   "source": [
    "### Using Lnaguage Models"
   ]
  },
  {
   "cell_type": "code",
   "execution_count": 4,
   "id": "203789ef",
   "metadata": {},
   "outputs": [],
   "source": [
    "from langchain.chat_models import init_chat_model\n",
    "\n",
    "model = init_chat_model(model=\"gpt-4o-mini\", temperature=0.1, model_provider=\"openai\")"
   ]
  },
  {
   "cell_type": "code",
   "execution_count": 5,
   "id": "bf2eda9e",
   "metadata": {},
   "outputs": [
    {
     "data": {
      "text/plain": [
       "'Hello! How can I assist you today?'"
      ]
     },
     "execution_count": 5,
     "metadata": {},
     "output_type": "execute_result"
    }
   ],
   "source": [
    "query = \"Hi\"\n",
    "response = model.invoke([{\"role\": \"user\", \"content\": query }])\n",
    "response.content"
   ]
  },
  {
   "cell_type": "code",
   "execution_count": 6,
   "id": "542cbc1f",
   "metadata": {},
   "outputs": [],
   "source": [
    "model_with_tools = model.bind_tools(tools)"
   ]
  },
  {
   "cell_type": "code",
   "execution_count": null,
   "id": "c94b393d",
   "metadata": {},
   "outputs": [
    {
     "data": {
      "text/plain": [
       "'Hello! How can I assist you today?'"
      ]
     },
     "execution_count": 7,
     "metadata": {},
     "output_type": "execute_result"
    }
   ],
   "source": [
    "query = \"Hi\"\n",
    "response = model_with_tools.invoke([{\"role\": \"user\", \"content\": query }])\n",
    "response.content"
   ]
  },
  {
   "cell_type": "code",
   "execution_count": 8,
   "id": "e4ea47fb",
   "metadata": {},
   "outputs": [
    {
     "data": {
      "text/plain": [
       "[]"
      ]
     },
     "execution_count": 8,
     "metadata": {},
     "output_type": "execute_result"
    }
   ],
   "source": [
    "response.tool_calls"
   ]
  },
  {
   "cell_type": "code",
   "execution_count": 14,
   "id": "1c42cf0b",
   "metadata": {},
   "outputs": [
    {
     "name": "stdout",
     "output_type": "stream",
     "text": [
      "Message content: \n",
      "\n",
      "Tool calls: [{'name': 'tavily_search', 'args': {'query': 'weather in San Francisco', 'topic': 'general'}, 'id': 'call_s2FV7VKrAHqeiM25IlmVxYxV', 'type': 'tool_call'}]\n"
     ]
    }
   ],
   "source": [
    "query = \"Search for the weather in SF\"\n",
    "response = model_with_tools.invoke([{\"role\": \"user\", \"content\": query}])\n",
    "\n",
    "print(f\"Message content: {response.text()}\\n\")\n",
    "print(f\"Tool calls: {response.tool_calls}\")"
   ]
  },
  {
   "cell_type": "markdown",
   "id": "a666dc44",
   "metadata": {},
   "source": [
    "### Create Agent"
   ]
  },
  {
   "cell_type": "code",
   "execution_count": 15,
   "id": "c42b43c5",
   "metadata": {},
   "outputs": [],
   "source": [
    "from langgraph.prebuilt import create_react_agent\n",
    "\n",
    "agent_executor = create_react_agent(model, tools)"
   ]
  },
  {
   "cell_type": "markdown",
   "id": "7c04315d",
   "metadata": {},
   "source": [
    "### Run the agent"
   ]
  },
  {
   "cell_type": "code",
   "execution_count": 16,
   "id": "70aca2c2",
   "metadata": {},
   "outputs": [
    {
     "name": "stdout",
     "output_type": "stream",
     "text": [
      "================================\u001b[1m Human Message \u001b[0m=================================\n",
      "\n",
      "Hi!\n",
      "==================================\u001b[1m Ai Message \u001b[0m==================================\n",
      "\n",
      "Hello! How can I assist you today?\n"
     ]
    }
   ],
   "source": [
    "input_message = {\"role\": \"user\", \"content\": \"Hi!\"}\n",
    "response = agent_executor.invoke({\"messages\": [input_message]})\n",
    "\n",
    "for message in response[\"messages\"]: \n",
    "   message.pretty_print()"
   ]
  },
  {
   "cell_type": "code",
   "execution_count": 17,
   "id": "14174a0f",
   "metadata": {},
   "outputs": [
    {
     "name": "stdout",
     "output_type": "stream",
     "text": [
      "================================\u001b[1m Human Message \u001b[0m=================================\n",
      "\n",
      "Search for the weather in SF\n",
      "==================================\u001b[1m Ai Message \u001b[0m==================================\n",
      "Tool Calls:\n",
      "  tavily_search (call_VeiMyB0FXGzTD5Wi6rM4VCwm)\n",
      " Call ID: call_VeiMyB0FXGzTD5Wi6rM4VCwm\n",
      "  Args:\n",
      "    query: weather in San Francisco\n",
      "    topic: general\n",
      "=================================\u001b[1m Tool Message \u001b[0m=================================\n",
      "Name: tavily_search\n",
      "\n",
      "{\"query\": \"weather in San Francisco\", \"follow_up_questions\": null, \"answer\": null, \"images\": [], \"results\": [{\"title\": \"Weather in San Francisco\", \"url\": \"https://www.weatherapi.com/\", \"content\": \"{'location': {'name': 'San Francisco', 'region': 'California', 'country': 'United States of America', 'lat': 37.775, 'lon': -122.4183, 'tz_id': 'America/Los_Angeles', 'localtime_epoch': 1752695046, 'localtime': '2025-07-16 12:44'}, 'current': {'last_updated_epoch': 1752694200, 'last_updated': '2025-07-16 12:30', 'temp_c': 17.8, 'temp_f': 64.0, 'is_day': 1, 'condition': {'text': 'Partly cloudy', 'icon': '//cdn.weatherapi.com/weather/64x64/day/116.png', 'code': 1003}, 'wind_mph': 12.8, 'wind_kph': 20.5, 'wind_degree': 243, 'wind_dir': 'WSW', 'pressure_mb': 1015.0, 'pressure_in': 29.98, 'precip_mm': 0.0, 'precip_in': 0.0, 'humidity': 68, 'cloud': 50, 'feelslike_c': 17.8, 'feelslike_f': 64.0, 'windchill_c': 13.5, 'windchill_f': 56.3, 'heatindex_c': 14.5, 'heatindex_f': 58.0, 'dewpoint_c': 12.6, 'dewpoint_f': 54.7, 'vis_km': 16.0, 'vis_miles': 9.0, 'uv': 9.0, 'gust_mph': 14.7, 'gust_kph': 23.6}}\", \"score\": 0.9984643, \"raw_content\": null}, {\"url\": \"https://world-weather.info/forecast/usa/san_francisco/july-2025/\", \"title\": \"Weather in San Francisco in July 2025 (California)\", \"content\": \"*   1 +70° +59° *   2 +72° +61° *   3 +70° +61° *   4 +70° +59° *   5 +70° +59° *   6 +70° +59° *   7 +70° +59° *   8 +70° +59° *   9 +70° +59° *   10 +72° +61° *   11 +72° +61° *   12 +70° +61° *   13 +70° +59° *   14 +70° +61° *   15 +72° +59° *   16 +72° +59° *   17 +70° +61° *   18 +72° +61° *   19 +70° +61° *   20 +72° +61° *   21 +70° +61° *   22 +72° +61° *   23 +72° +61° *   24 +70° +59° *   25 +72° +61° *   26 +72° +61° *   27 +70° +59° *   28 +70° +59° *   29 +70° +59° *   30 +70° +59°\", \"score\": 0.8624794, \"raw_content\": null}, {\"url\": \"https://www.weather25.com/north-america/usa/california/san-francisco?page=month&month=July\", \"title\": \"San Francisco weather in July 2025 | Weather25.com\", \"content\": \"| February | 16° / 7° | 4 | 24 | 0 | 61 mm | Good | San Francisco in February | | March | 17° / 8° | 5 | 26 | 0 | 62 mm | Good | San Francisco in March | | May | 20° / 10° | 1 | 30 | 0 | 13 mm | Good | San Francisco in May | | July | 25° / 14° | 0 | 31 | 0 | 3 mm | Perfect | San Francisco in July | | December | 14° / 8° | 4 | 27 | 0 | 55 mm | Good | San Francisco in December |\", \"score\": 0.7923522, \"raw_content\": null}, {\"url\": \"https://weatherspark.com/h/m/557/2025/7/Historical-Weather-in-July-2025-in-San-Francisco-California-United-States\", \"title\": \"July 2025 Weather History in San Francisco California, United States\", \"content\": \"This report shows the past weather for San Francisco, providing a weather history for July 2025. It features all historical weather data series we have\", \"score\": 0.6391287, \"raw_content\": null}, {\"url\": \"https://www.accuweather.com/en/us/san-francisco/94103/july-weather/347629\", \"title\": \"San Francisco, CA Monthly Weather - AccuWeather\", \"content\": \"San Francisco, CA Monthly Weather | AccuWeather San Francisco, CA Weather ### Warnings### Data Suite### Newsletters### Advertising### Superior Accuracy™ ### Hurricane Tracker### Severe Weather### Radar & Maps### News### Video### Winter Center Severe Weather Over 100 million at risk for severe storms, downpours into next week 7 hours ago Image 2Recreation 2 hikers die on Maine mountain amid treacherous weather 1 day ago Image 3Weather News Northeast to cycle between deluges, dry air following warmth 7 hours ago Image 4Weather News Crane collapse during high winds kills 2 in Florida 8 hours ago Image 5Weather News Hazy sky to persist as wildfire smoke and Saharan dust invades US 7 hours ago Image 6More Stories\", \"score\": 0.24026659, \"raw_content\": null}], \"response_time\": 3.07}\n",
      "==================================\u001b[1m Ai Message \u001b[0m==================================\n",
      "\n",
      "The current weather in San Francisco is as follows:\n",
      "\n",
      "- **Temperature**: 17.8°C (64°F)\n",
      "- **Condition**: Partly cloudy\n",
      "- **Wind**: 12.8 mph (20.5 kph) from the WSW\n",
      "- **Humidity**: 68%\n",
      "- **Visibility**: 16 km (9 miles)\n",
      "- **UV Index**: 9.0\n",
      "\n",
      "For more detailed weather information, you can visit [WeatherAPI](https://www.weatherapi.com/).\n",
      "\n",
      "If you're interested in the forecast for July 2025, here are some details:\n",
      "- Average high: 70-72°F\n",
      "- Average low: 59-61°F\n",
      "\n",
      "You can find more about the forecast on [World Weather](https://world-weather.info/forecast/usa/san_francisco/july-2025/) or [Weather25](https://www.weather25.com/north-america/usa/california/san-francisco?page=month&month=July).\n"
     ]
    }
   ],
   "source": [
    "input_message = {\"role\": \"user\", \"content\": \"Search for the weather in SF\"}\n",
    "response = agent_executor.invoke({\"messages\": [input_message]})\n",
    "\n",
    "for message in response[\"messages\"]: \n",
    "   message.pretty_print()"
   ]
  },
  {
   "cell_type": "markdown",
   "id": "46db02e2",
   "metadata": {},
   "source": [
    "### Streaming Messages"
   ]
  },
  {
   "cell_type": "code",
   "execution_count": 28,
   "id": "46c0a459",
   "metadata": {},
   "outputs": [
    {
     "name": "stdout",
     "output_type": "stream",
     "text": [
      "================================\u001b[1m Human Message \u001b[0m=================================\n",
      "\n",
      "Search for the weather in SF\n",
      "==================================\u001b[1m Ai Message \u001b[0m==================================\n",
      "Tool Calls:\n",
      "  tavily_search (call_2Iy5vg2RtZZYhv4PcZUGsnUP)\n",
      " Call ID: call_2Iy5vg2RtZZYhv4PcZUGsnUP\n",
      "  Args:\n",
      "    query: weather in San Francisco\n",
      "    topic: general\n",
      "=================================\u001b[1m Tool Message \u001b[0m=================================\n",
      "Name: tavily_search\n",
      "\n",
      "{\"query\": \"weather in San Francisco\", \"follow_up_questions\": null, \"answer\": null, \"images\": [], \"results\": [{\"title\": \"Weather in San Francisco\", \"url\": \"https://www.weatherapi.com/\", \"content\": \"{'location': {'name': 'San Francisco', 'region': 'California', 'country': 'United States of America', 'lat': 37.775, 'lon': -122.4183, 'tz_id': 'America/Los_Angeles', 'localtime_epoch': 1752695046, 'localtime': '2025-07-16 12:44'}, 'current': {'last_updated_epoch': 1752694200, 'last_updated': '2025-07-16 12:30', 'temp_c': 17.8, 'temp_f': 64.0, 'is_day': 1, 'condition': {'text': 'Partly cloudy', 'icon': '//cdn.weatherapi.com/weather/64x64/day/116.png', 'code': 1003}, 'wind_mph': 12.8, 'wind_kph': 20.5, 'wind_degree': 243, 'wind_dir': 'WSW', 'pressure_mb': 1015.0, 'pressure_in': 29.98, 'precip_mm': 0.0, 'precip_in': 0.0, 'humidity': 68, 'cloud': 50, 'feelslike_c': 17.8, 'feelslike_f': 64.0, 'windchill_c': 13.5, 'windchill_f': 56.3, 'heatindex_c': 14.5, 'heatindex_f': 58.0, 'dewpoint_c': 12.6, 'dewpoint_f': 54.7, 'vis_km': 16.0, 'vis_miles': 9.0, 'uv': 9.0, 'gust_mph': 14.7, 'gust_kph': 23.6}}\", \"score\": 0.9984643, \"raw_content\": null}, {\"url\": \"https://world-weather.info/forecast/usa/san_francisco/july-2025/\", \"title\": \"Weather in San Francisco in July 2025 (California)\", \"content\": \"*   1 +70° +59° *   2 +72° +61° *   3 +70° +61° *   4 +70° +59° *   5 +70° +59° *   6 +70° +59° *   7 +70° +59° *   8 +70° +59° *   9 +70° +59° *   10 +72° +61° *   11 +72° +61° *   12 +70° +61° *   13 +70° +59° *   14 +70° +61° *   15 +72° +59° *   16 +72° +59° *   17 +70° +61° *   18 +72° +61° *   19 +70° +61° *   20 +72° +61° *   21 +70° +61° *   22 +72° +61° *   23 +72° +61° *   24 +70° +59° *   25 +72° +61° *   26 +72° +61° *   27 +70° +59° *   28 +70° +59° *   29 +70° +59° *   30 +70° +59°\", \"score\": 0.8624794, \"raw_content\": null}, {\"url\": \"https://www.weather25.com/north-america/usa/california/san-francisco?page=month&month=July\", \"title\": \"San Francisco weather in July 2025 | Weather25.com\", \"content\": \"| February | 16° / 7° | 4 | 24 | 0 | 61 mm | Good | San Francisco in February | | March | 17° / 8° | 5 | 26 | 0 | 62 mm | Good | San Francisco in March | | May | 20° / 10° | 1 | 30 | 0 | 13 mm | Good | San Francisco in May | | July | 25° / 14° | 0 | 31 | 0 | 3 mm | Perfect | San Francisco in July | | December | 14° / 8° | 4 | 27 | 0 | 55 mm | Good | San Francisco in December |\", \"score\": 0.7923522, \"raw_content\": null}, {\"url\": \"https://weatherspark.com/h/m/557/2025/7/Historical-Weather-in-July-2025-in-San-Francisco-California-United-States\", \"title\": \"July 2025 Weather History in San Francisco California, United States\", \"content\": \"This report shows the past weather for San Francisco, providing a weather history for July 2025. It features all historical weather data series we have\", \"score\": 0.6391287, \"raw_content\": null}, {\"url\": \"https://www.accuweather.com/en/us/san-francisco/94103/july-weather/347629\", \"title\": \"San Francisco, CA Monthly Weather - AccuWeather\", \"content\": \"San Francisco, CA Monthly Weather | AccuWeather San Francisco, CA Weather ### Warnings### Data Suite### Newsletters### Advertising### Superior Accuracy™ ### Hurricane Tracker### Severe Weather### Radar & Maps### News### Video### Winter Center Severe Weather Over 100 million at risk for severe storms, downpours into next week 7 hours ago Image 2Recreation 2 hikers die on Maine mountain amid treacherous weather 1 day ago Image 3Weather News Northeast to cycle between deluges, dry air following warmth 7 hours ago Image 4Weather News Crane collapse during high winds kills 2 in Florida 8 hours ago Image 5Weather News Hazy sky to persist as wildfire smoke and Saharan dust invades US 7 hours ago Image 6More Stories\", \"score\": 0.24026659, \"raw_content\": null}], \"response_time\": 1.42}\n",
      "==================================\u001b[1m Ai Message \u001b[0m==================================\n",
      "\n",
      "The current weather in San Francisco is as follows:\n",
      "\n",
      "- **Temperature**: 17.8°C (64°F)\n",
      "- **Condition**: Partly cloudy\n",
      "- **Wind**: 12.8 mph (20.5 kph) from the WSW\n",
      "- **Humidity**: 68%\n",
      "- **Visibility**: 16 km (9 miles)\n",
      "- **UV Index**: 9.0\n",
      "\n",
      "For more detailed weather information, you can visit [WeatherAPI](https://www.weatherapi.com/) or check out [AccuWeather](https://www.accuweather.com/en/us/san-francisco/94103/july-weather/347629).\n"
     ]
    }
   ],
   "source": [
    "for step in agent_executor.stream({\"messages\": [input_message]}, stream_mode=\"values\"):\n",
    "   step[\"messages\"][-1].pretty_print()"
   ]
  },
  {
   "cell_type": "markdown",
   "id": "ef9ec551",
   "metadata": {},
   "source": [
    "### Streaming tokens"
   ]
  },
  {
   "cell_type": "code",
   "execution_count": 29,
   "id": "6677b9ce",
   "metadata": {},
   "outputs": [
    {
     "name": "stdout",
     "output_type": "stream",
     "text": [
      "The| current| weather| in| San| Francisco| is| as| follows|:\n",
      "\n",
      "|-| **|Temperature|**|:| |17|.|8|°C| (|64|.|0|°F|)\n",
      "|-| **|Condition|**|:| Part|ly| cloudy|\n",
      "|-| **|Wind|**|:| |12|.|8| mph| (|20|.|5| k|ph|)| from| the| W|SW|\n",
      "|-| **|Humidity|**|:| |68|%\n",
      "|-| **|Visibility|**|:| |16| km| (|9| miles|)\n",
      "|-| **|Pressure|**|:| |101|5| mb| (|29|.|98| in|)\n",
      "\n",
      "|For| more| detailed| information|,| you| can| check| the| following| sources|:\n",
      "|-| [|Weather| API|](|https|://|www|.weather|api|.com|/)\n",
      "|-| [|Acc|u|Weather|](|https|://|www|.acc|uwe|ather|.com|/en|/us|/s|an|-fr|anc|isco|/|941|03|/j|uly|-weather|/|347|629|)|"
     ]
    }
   ],
   "source": [
    "for step, metadata in agent_executor.stream({\"messages\": [input_message]}, stream_mode=\"messages\"): \n",
    "   if metadata[\"langgraph_node\"] == \"agent\" and (text := step.text()): \n",
    "      print(text, end=\"|\")"
   ]
  },
  {
   "cell_type": "markdown",
   "id": "4a831188",
   "metadata": {},
   "source": [
    "### Adding in memory"
   ]
  },
  {
   "cell_type": "code",
   "execution_count": 30,
   "id": "9d12cc4a",
   "metadata": {},
   "outputs": [],
   "source": [
    "from langgraph.checkpoint.memory import MemorySaver\n",
    "\n",
    "memory = MemorySaver()"
   ]
  },
  {
   "cell_type": "code",
   "execution_count": 32,
   "id": "441331f3",
   "metadata": {},
   "outputs": [],
   "source": [
    "agent_executor = create_react_agent(model, tools, checkpointer=memory)\n",
    "\n",
    "config = {\"configurable\": {\"thread_id\": \"abc123\"}}"
   ]
  },
  {
   "cell_type": "code",
   "execution_count": 38,
   "id": "db4adae0",
   "metadata": {},
   "outputs": [
    {
     "name": "stdout",
     "output_type": "stream",
     "text": [
      "================================\u001b[1m Human Message \u001b[0m=================================\n",
      "\n",
      "Hi I'm Pon\n",
      "==================================\u001b[1m Ai Message \u001b[0m==================================\n",
      "\n",
      "Hello again, Pon! If there's anything you'd like to discuss or any questions you have, feel free to let me know!\n"
     ]
    }
   ],
   "source": [
    "input_message = {\"role\": \"user\", \"content\": \"Hi I'm Pon\"}\n",
    "\n",
    "for step in agent_executor.stream({\"messages\": [input_message]}, config, stream_mode=\"values\"):\n",
    "   step[\"messages\"][-1].pretty_print() "
   ]
  },
  {
   "cell_type": "code",
   "execution_count": 39,
   "id": "08e17d67",
   "metadata": {},
   "outputs": [
    {
     "name": "stdout",
     "output_type": "stream",
     "text": [
      "================================\u001b[1m Human Message \u001b[0m=================================\n",
      "\n",
      "What's my name?\n",
      "==================================\u001b[1m Ai Message \u001b[0m==================================\n",
      "\n",
      "Your name is Pon!\n"
     ]
    }
   ],
   "source": [
    "input_message = {\"role\": \"user\", \"content\": \"What's my name?\"}\n",
    "for step in agent_executor.stream(\n",
    "    {\"messages\": [input_message]}, config, stream_mode=\"values\"\n",
    "):\n",
    "    step[\"messages\"][-1].pretty_print()"
   ]
  }
 ],
 "metadata": {
  "kernelspec": {
   "display_name": "langchain_tutorial",
   "language": "python",
   "name": "python3"
  },
  "language_info": {
   "codemirror_mode": {
    "name": "ipython",
    "version": 3
   },
   "file_extension": ".py",
   "mimetype": "text/x-python",
   "name": "python",
   "nbconvert_exporter": "python",
   "pygments_lexer": "ipython3",
   "version": "3.12.11"
  }
 },
 "nbformat": 4,
 "nbformat_minor": 5
}
