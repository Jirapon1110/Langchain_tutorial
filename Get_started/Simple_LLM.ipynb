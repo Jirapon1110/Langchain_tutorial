{
 "cells": [
  {
   "cell_type": "code",
   "execution_count": 10,
   "id": "5ed973db",
   "metadata": {},
   "outputs": [],
   "source": [
    "import getpass\n",
    "import os\n",
    "from langchain.chat_models import init_chat_model\n",
    "from langchain_core.messages import HumanMessage, SystemMessage"
   ]
  },
  {
   "cell_type": "code",
   "execution_count": 1,
   "id": "32e9e5b9",
   "metadata": {},
   "outputs": [],
   "source": [
    "try:\n",
    "    from dotenv import load_dotenv\n",
    "    load_dotenv()\n",
    "except ImportError:\n",
    "    pass"
   ]
  },
  {
   "cell_type": "markdown",
   "id": "04753306",
   "metadata": {},
   "source": [
    "### Using Language Model"
   ]
  },
  {
   "cell_type": "code",
   "execution_count": 11,
   "id": "364f80ce",
   "metadata": {},
   "outputs": [],
   "source": [
    "model = init_chat_model(\"gpt-3.5-turbo\", model_provider=\"openai\")\n",
    "\n",
    "messages = [\n",
    "   SystemMessage(\"Translate the folloowing text to Thai\"),\n",
    "   HumanMessage(\"Hello, how are you?\"),\n",
    "]"
   ]
  },
  {
   "cell_type": "code",
   "execution_count": 12,
   "id": "9d9c7d2d",
   "metadata": {},
   "outputs": [
    {
     "data": {
      "text/plain": [
       "AIMessage(content='สวัสดีค่ะ คุณเป็นอย่างไรบ้างคะ?', additional_kwargs={'refusal': None}, response_metadata={'token_usage': {'completion_tokens': 29, 'prompt_tokens': 25, 'total_tokens': 54, 'completion_tokens_details': {'accepted_prediction_tokens': 0, 'audio_tokens': 0, 'reasoning_tokens': 0, 'rejected_prediction_tokens': 0}, 'prompt_tokens_details': {'audio_tokens': 0, 'cached_tokens': 0}}, 'model_name': 'gpt-3.5-turbo-0125', 'system_fingerprint': None, 'id': 'chatcmpl-BsyOoIoBDHsxhl83Y7HwIwnzhPJJN', 'service_tier': 'default', 'finish_reason': 'stop', 'logprobs': None}, id='run--6d315daa-684f-4d84-8f31-d61c4b176218-0', usage_metadata={'input_tokens': 25, 'output_tokens': 29, 'total_tokens': 54, 'input_token_details': {'audio': 0, 'cache_read': 0}, 'output_token_details': {'audio': 0, 'reasoning': 0}})"
      ]
     },
     "execution_count": 12,
     "metadata": {},
     "output_type": "execute_result"
    }
   ],
   "source": [
    "model.invoke(messages)"
   ]
  },
  {
   "cell_type": "code",
   "execution_count": 14,
   "id": "b682282a",
   "metadata": {},
   "outputs": [
    {
     "name": "stdout",
     "output_type": "stream",
     "text": [
      "content=\"Hello! I'm just a computer program, so I don't have feelings, but I'm here and ready to assist you. How can I help you today?\" additional_kwargs={'refusal': None} response_metadata={'token_usage': {'completion_tokens': 33, 'prompt_tokens': 13, 'total_tokens': 46, 'completion_tokens_details': {'accepted_prediction_tokens': 0, 'audio_tokens': 0, 'reasoning_tokens': 0, 'rejected_prediction_tokens': 0}, 'prompt_tokens_details': {'audio_tokens': 0, 'cached_tokens': 0}}, 'model_name': 'gpt-3.5-turbo-0125', 'system_fingerprint': None, 'id': 'chatcmpl-BsySURyNSNQzPL7PutvxpsOEtZQpD', 'service_tier': 'default', 'finish_reason': 'stop', 'logprobs': None} id='run--fe435271-4bdb-4265-90b7-80f77d11e715-0' usage_metadata={'input_tokens': 13, 'output_tokens': 33, 'total_tokens': 46, 'input_token_details': {'audio': 0, 'cache_read': 0}, 'output_token_details': {'audio': 0, 'reasoning': 0}}\n",
      "content=\"Hello! I'm just a computer program so I don't have feelings, but I'm here and ready to help you with any questions or tasks you have. How can I assist you today?\" additional_kwargs={'refusal': None} response_metadata={'token_usage': {'completion_tokens': 39, 'prompt_tokens': 13, 'total_tokens': 52, 'completion_tokens_details': {'accepted_prediction_tokens': 0, 'audio_tokens': 0, 'reasoning_tokens': 0, 'rejected_prediction_tokens': 0}, 'prompt_tokens_details': {'audio_tokens': 0, 'cached_tokens': 0}}, 'model_name': 'gpt-3.5-turbo-0125', 'system_fingerprint': None, 'id': 'chatcmpl-BsySWmXe5OGlTufa9HUDBal5uJ9b1', 'service_tier': 'default', 'finish_reason': 'stop', 'logprobs': None} id='run--02c659a8-99ea-439c-bd79-f87d204db332-0' usage_metadata={'input_tokens': 13, 'output_tokens': 39, 'total_tokens': 52, 'input_token_details': {'audio': 0, 'cache_read': 0}, 'output_token_details': {'audio': 0, 'reasoning': 0}}\n",
      "content=\"Hello! I'm just a computer program, so I don't have feelings, but I'm here to help you with whatever you need. How can I assist you today?\" additional_kwargs={'refusal': None} response_metadata={'token_usage': {'completion_tokens': 35, 'prompt_tokens': 13, 'total_tokens': 48, 'completion_tokens_details': {'accepted_prediction_tokens': 0, 'audio_tokens': 0, 'reasoning_tokens': 0, 'rejected_prediction_tokens': 0}, 'prompt_tokens_details': {'audio_tokens': 0, 'cached_tokens': 0}}, 'model_name': 'gpt-3.5-turbo-0125', 'system_fingerprint': None, 'id': 'chatcmpl-BsySXbqi2vrsVTdOItPkathTkY2PE', 'service_tier': 'default', 'finish_reason': 'stop', 'logprobs': None} id='run--5d50700b-44ee-4dd0-a3c2-d7dac378acd4-0' usage_metadata={'input_tokens': 13, 'output_tokens': 35, 'total_tokens': 48, 'input_token_details': {'audio': 0, 'cache_read': 0}, 'output_token_details': {'audio': 0, 'reasoning': 0}}\n"
     ]
    }
   ],
   "source": [
    "ans1 = model.invoke(\"Hello, how are you?\")\n",
    "print(ans1)\n",
    "\n",
    "ans2 = model.invoke([{\"role\": \"user\", \"content\": \"Hello, how are you?\"}])\n",
    "print(ans2)\n",
    "\n",
    "ans3 = model.invoke([HumanMessage(\"Hello, how are you?\")])\n",
    "print(ans3)"
   ]
  },
  {
   "cell_type": "markdown",
   "id": "6ff47502",
   "metadata": {},
   "source": [
    "#### Streaming"
   ]
  },
  {
   "cell_type": "code",
   "execution_count": 21,
   "id": "67bc6401",
   "metadata": {},
   "outputs": [
    {
     "name": "stdout",
     "output_type": "stream",
     "text": [
      "|ส|ว|ั|ส|ด|ี|ค|ร|ับ| |ส|บ|า|ย|ด|ี|ไ|ห|ม|ค|ร|ับ|?||"
     ]
    }
   ],
   "source": [
    "for token in model.stream(messages): \n",
    "   print(token.content, end=\"|\")"
   ]
  },
  {
   "cell_type": "markdown",
   "id": "d17ec764",
   "metadata": {},
   "source": [
    "### Prompt Template"
   ]
  },
  {
   "cell_type": "code",
   "execution_count": null,
   "id": "070d57f7",
   "metadata": {},
   "outputs": [],
   "source": [
    "from langchain_core.prompts import ChatPromptTemplate\n",
    "\n",
    "system_template = \"Translate the following from English into {language}\"\n",
    "\n",
    "prompt_template = ChatPromptTemplate.from_messages(\n",
    "    [(\"system\", system_template), (\"user\", \"{text}\")]\n",
    ")"
   ]
  },
  {
   "cell_type": "code",
   "execution_count": null,
   "id": "c6cfcd0e",
   "metadata": {},
   "outputs": [],
   "source": [
    "prompt = prompt_template.invoke({\"language\": \"Italian\", \"text\": \"hi!\"})\n",
    "\n",
    "prompt"
   ]
  },
  {
   "cell_type": "code",
   "execution_count": null,
   "id": "8485d9c0",
   "metadata": {},
   "outputs": [],
   "source": [
    "prompt.to_messages()"
   ]
  },
  {
   "cell_type": "code",
   "execution_count": null,
   "id": "63311fc8",
   "metadata": {},
   "outputs": [],
   "source": [
    "response = model.invoke(prompt)\n",
    "print(response.content)"
   ]
  }
 ],
 "metadata": {
  "kernelspec": {
   "display_name": "langchain_tutorial",
   "language": "python",
   "name": "python3"
  },
  "language_info": {
   "codemirror_mode": {
    "name": "ipython",
    "version": 3
   },
   "file_extension": ".py",
   "mimetype": "text/x-python",
   "name": "python",
   "nbconvert_exporter": "python",
   "pygments_lexer": "ipython3",
   "version": "3.10.18"
  }
 },
 "nbformat": 4,
 "nbformat_minor": 5
}
