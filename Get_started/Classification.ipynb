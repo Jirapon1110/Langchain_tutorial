{
 "cells": [
  {
   "cell_type": "code",
   "execution_count": 1,
   "id": "4f41191a",
   "metadata": {},
   "outputs": [
    {
     "data": {
      "text/plain": [
       "True"
      ]
     },
     "execution_count": 1,
     "metadata": {},
     "output_type": "execute_result"
    }
   ],
   "source": [
    "from dotenv import load_dotenv\n",
    "import os\n",
    "load_dotenv()"
   ]
  },
  {
   "cell_type": "markdown",
   "id": "70b9e528",
   "metadata": {},
   "source": [
    "### Quick Started"
   ]
  },
  {
   "cell_type": "code",
   "execution_count": 2,
   "id": "74f60e9a",
   "metadata": {},
   "outputs": [],
   "source": [
    "from langchain.chat_models import init_chat_model\n",
    "\n",
    "llm = init_chat_model(model=\"gpt-4o-mini\", temperature=0)"
   ]
  },
  {
   "cell_type": "code",
   "execution_count": 3,
   "id": "580feddb",
   "metadata": {},
   "outputs": [],
   "source": [
    "from langchain_core.prompts import ChatPromptTemplate\n",
    "from pydantic import BaseModel, Field\n",
    "\n",
    "tagging_prompt = ChatPromptTemplate.from_template(\n",
    "       \"\"\"\n",
    "Extract the desired information from the following passage.\n",
    "\n",
    "Only extract the properties mentioned in the 'Classification' function.\n",
    "\n",
    "Passage:\n",
    "{input}\n",
    "\"\"\"\n",
    ")\n",
    "\n",
    "class Classification(BaseModel):\n",
    "   \n",
    "   sentiment: str = Field(description=\"The sentiment of the text\")\n",
    "   aggressiveness: str = Field(description=\"How aggressive the text is on a scale of 1 to 10\")\n",
    "   language: str = Field(description=\"The language of the text\")\n",
    "   \n",
    "\n",
    "\n",
    "structured_llm = llm.with_structured_output(Classification)"
   ]
  },
  {
   "cell_type": "code",
   "execution_count": 4,
   "id": "86772fd9",
   "metadata": {},
   "outputs": [],
   "source": [
    "inp = \"Estoy increiblemente contento de haberte conocido! Creo que seremos muy buenos amigos!\"\n",
    "prompt = tagging_prompt.invoke(input=inp)\n",
    "\n",
    "response = structured_llm.invoke(prompt)"
   ]
  },
  {
   "cell_type": "code",
   "execution_count": 5,
   "id": "3517f188",
   "metadata": {},
   "outputs": [
    {
     "data": {
      "text/plain": [
       "Classification(sentiment='positive', aggressiveness='1', language='Spanish')"
      ]
     },
     "execution_count": 5,
     "metadata": {},
     "output_type": "execute_result"
    }
   ],
   "source": [
    "response"
   ]
  },
  {
   "cell_type": "markdown",
   "id": "f0fcccfe",
   "metadata": {},
   "source": [
    "### Finer control"
   ]
  },
  {
   "cell_type": "code",
   "execution_count": 6,
   "id": "fa025dd2",
   "metadata": {},
   "outputs": [],
   "source": [
    "class Classification(BaseModel):\n",
    "   \n",
    "   sentiment: str = Field(..., enum=[\"happy\", \"neutral\", \"sad\"])\n",
    "   aggressiveness: int = Field(\n",
    "      ..., \n",
    "      description=\"describes how aggressive the statement is, the higher the number the more aggressive\",\n",
    "      enum=[1, 2, 3, 4, 5],\n",
    "   )\n",
    "   \n",
    "   language: str = Field(\n",
    "      ..., enum=[\"spanish\", \"english\", \"french\", \"german\", \"italian\"]\n",
    "\n",
    "   )"
   ]
  },
  {
   "cell_type": "code",
   "execution_count": 9,
   "id": "d0c7813e",
   "metadata": {},
   "outputs": [],
   "source": [
    "from langchain.chat_models import ChatOpenAI\n",
    "\n",
    "tagging_prompt = ChatPromptTemplate.from_template(\n",
    "    \"\"\"\n",
    "Extract the desired information from the following passage.\n",
    "\n",
    "Only extract the properties mentioned in the 'Classification' function.\n",
    "\n",
    "Passage:\n",
    "{input}\n",
    "\"\"\"\n",
    ")\n",
    "\n",
    "## llm = ChatOpenAI(temperature=0, model=\"gpt-4o-mini\").with_structured_output(Classification)"
   ]
  },
  {
   "cell_type": "code",
   "execution_count": 8,
   "id": "a9986924",
   "metadata": {},
   "outputs": [
    {
     "name": "stdout",
     "output_type": "stream",
     "text": [
      "sentiment=<Sentiment.sad: 'sad'> aggressiveness=<AggressivenessLevel.four: 4> language=<Language.spanish: 'spanish'>\n"
     ]
    }
   ],
   "source": [
    "from pydantic import BaseModel, Field\n",
    "from enum import Enum\n",
    "from langchain_openai import ChatOpenAI\n",
    "from langchain_core.prompts import ChatPromptTemplate\n",
    "from langchain.output_parsers import PydanticOutputParser\n",
    "\n",
    "# Enums\n",
    "class Sentiment(str, Enum):\n",
    "    happy = \"happy\"\n",
    "    neutral = \"neutral\"\n",
    "    sad = \"sad\"\n",
    "\n",
    "class AggressivenessLevel(int, Enum):\n",
    "    one = 1\n",
    "    two = 2\n",
    "    three = 3\n",
    "    four = 4\n",
    "    five = 5\n",
    "\n",
    "class Language(str, Enum):\n",
    "    spanish = \"spanish\"\n",
    "    english = \"english\"\n",
    "    french = \"french\"\n",
    "    german = \"german\"\n",
    "    italian = \"italian\"\n",
    "\n",
    "# Pydantic schema\n",
    "class Classification(BaseModel):\n",
    "    sentiment: Sentiment\n",
    "    aggressiveness: AggressivenessLevel\n",
    "    language: Language\n",
    "\n",
    "# Parser\n",
    "parser = PydanticOutputParser(pydantic_object=Classification)\n",
    "\n",
    "# Prompt with formatting instructions\n",
    "prompt = ChatPromptTemplate.from_template(\"\"\"\n",
    "Extract the following properties from the passage below:\n",
    "- sentiment: one of {sentiments}\n",
    "- aggressiveness: 1 to 5\n",
    "- language: one of {languages}\n",
    "\n",
    "Format your answer as JSON:\n",
    "{format_instructions}\n",
    "\n",
    "Passage:\n",
    "{input}\n",
    "\"\"\")\n",
    "\n",
    "# LLM\n",
    "llm = ChatOpenAI(model=\"gpt-4o-mini\", temperature=0)\n",
    "\n",
    "# Chain\n",
    "chain = prompt | llm | parser\n",
    "\n",
    "# Run\n",
    "result = chain.invoke({\n",
    "    \"input\": \"He screamed in Spanish and slammed the door.\",\n",
    "    \"sentiments\": list(Sentiment),\n",
    "    \"languages\": list(Language),\n",
    "    \"format_instructions\": parser.get_format_instructions()\n",
    "})\n",
    "\n",
    "print(result)\n"
   ]
  }
 ],
 "metadata": {
  "kernelspec": {
   "display_name": "langchain_tutorial",
   "language": "python",
   "name": "python3"
  },
  "language_info": {
   "codemirror_mode": {
    "name": "ipython",
    "version": 3
   },
   "file_extension": ".py",
   "mimetype": "text/x-python",
   "name": "python",
   "nbconvert_exporter": "python",
   "pygments_lexer": "ipython3",
   "version": "3.12.11"
  }
 },
 "nbformat": 4,
 "nbformat_minor": 5
}
